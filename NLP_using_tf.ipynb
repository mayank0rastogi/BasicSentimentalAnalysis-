{
  "nbformat": 4,
  "nbformat_minor": 0,
  "metadata": {
    "colab": {
      "name": "NLP using tf.ipynb",
      "provenance": [],
      "collapsed_sections": []
    },
    "kernelspec": {
      "name": "python3",
      "display_name": "Python 3"
    }
  },
  "cells": [
    {
      "cell_type": "code",
      "metadata": {
        "id": "7akL91vQixgl",
        "colab_type": "code",
        "colab": {
          "base_uri": "https://localhost:8080/",
          "height": 50
        },
        "outputId": "20d64250-71ea-4773-9e86-f8214fb2fb71"
      },
      "source": [
        "from tensorflow.python.keras.datasets import  imdb\n",
        "(x_train,y_train),(x_test,y_test) = imdb.load_data(num_words=10000)"
      ],
      "execution_count": 1,
      "outputs": [
        {
          "output_type": "stream",
          "text": [
            "Downloading data from https://storage.googleapis.com/tensorflow/tf-keras-datasets/imdb.npz\n",
            "17465344/17464789 [==============================] - 0s 0us/step\n"
          ],
          "name": "stdout"
        }
      ]
    },
    {
      "cell_type": "code",
      "metadata": {
        "id": "xO7Ixws2EBey",
        "colab_type": "code",
        "outputId": "e46d31f4-d584-4b42-ab13-9f50627f481c",
        "colab": {
          "base_uri": "https://localhost:8080/",
          "height": 53
        }
      },
      "source": [
        "print(x_train[0])"
      ],
      "execution_count": 2,
      "outputs": [
        {
          "output_type": "stream",
          "text": [
            "[1, 14, 22, 16, 43, 530, 973, 1622, 1385, 65, 458, 4468, 66, 3941, 4, 173, 36, 256, 5, 25, 100, 43, 838, 112, 50, 670, 2, 9, 35, 480, 284, 5, 150, 4, 172, 112, 167, 2, 336, 385, 39, 4, 172, 4536, 1111, 17, 546, 38, 13, 447, 4, 192, 50, 16, 6, 147, 2025, 19, 14, 22, 4, 1920, 4613, 469, 4, 22, 71, 87, 12, 16, 43, 530, 38, 76, 15, 13, 1247, 4, 22, 17, 515, 17, 12, 16, 626, 18, 2, 5, 62, 386, 12, 8, 316, 8, 106, 5, 4, 2223, 5244, 16, 480, 66, 3785, 33, 4, 130, 12, 16, 38, 619, 5, 25, 124, 51, 36, 135, 48, 25, 1415, 33, 6, 22, 12, 215, 28, 77, 52, 5, 14, 407, 16, 82, 2, 8, 4, 107, 117, 5952, 15, 256, 4, 2, 7, 3766, 5, 723, 36, 71, 43, 530, 476, 26, 400, 317, 46, 7, 4, 2, 1029, 13, 104, 88, 4, 381, 15, 297, 98, 32, 2071, 56, 26, 141, 6, 194, 7486, 18, 4, 226, 22, 21, 134, 476, 26, 480, 5, 144, 30, 5535, 18, 51, 36, 28, 224, 92, 25, 104, 4, 226, 65, 16, 38, 1334, 88, 12, 16, 283, 5, 16, 4472, 113, 103, 32, 15, 16, 5345, 19, 178, 32]\n"
          ],
          "name": "stdout"
        }
      ]
    },
    {
      "cell_type": "code",
      "metadata": {
        "id": "Srs4SDv2E0CJ",
        "colab_type": "code",
        "outputId": "8ac2c9f3-0a8f-41b3-e28e-30d23c7d9883",
        "colab": {
          "base_uri": "https://localhost:8080/",
          "height": 33
        }
      },
      "source": [
        "#print the 1st label in this dataset we have two labels 0 and 1 where 0-> indicates negative review and 1->indicates poistive review\n",
        "print(y_train[0])"
      ],
      "execution_count": 3,
      "outputs": [
        {
          "output_type": "stream",
          "text": [
            "1\n"
          ],
          "name": "stdout"
        }
      ]
    },
    {
      "cell_type": "code",
      "metadata": {
        "id": "u31MleekFdfA",
        "colab_type": "code",
        "colab": {}
      },
      "source": [
        "#lets define classs names this we made it only for the refrence\n",
        "class_names=['Negative','Positive']"
      ],
      "execution_count": 0,
      "outputs": []
    },
    {
      "cell_type": "code",
      "metadata": {
        "id": "tS5OwvoEGAIX",
        "colab_type": "code",
        "outputId": "8a598a42-1cf5-4d47-8824-5a5ed9704d81",
        "colab": {
          "base_uri": "https://localhost:8080/",
          "height": 66
        }
      },
      "source": [
        "#it basically shows the wordindex for any  particular word it returns value whic is  the numeric token value for that particular word so this is dictionary with key value pair\n",
        "word_index=imdb.get_word_index()\n",
        "#so if we print the word index of the \"hello\" it gives us the coresspondance token \n",
        "print(word_index['hello'])"
      ],
      "execution_count": 5,
      "outputs": [
        {
          "output_type": "stream",
          "text": [
            "Downloading data from https://storage.googleapis.com/tensorflow/tf-keras-datasets/imdb_word_index.json\n",
            "1646592/1641221 [==============================] - 0s 0us/step\n",
            "4822\n"
          ],
          "name": "stdout"
        }
      ]
    },
    {
      "cell_type": "code",
      "metadata": {
        "id": "gwqUdQD3ItXW",
        "colab_type": "code",
        "colab": {}
      },
      "source": [
        "#decoding the review, i is basically token value\n",
        "reverse_word_index=dict((value,key) for key, value in word_index.items())\n",
        "def decode(review):\n",
        "  text=''\n",
        "  for i in review:\n",
        "    text =text+reverse_word_index[i]\n",
        "    text+=' '\n",
        "  return text  "
      ],
      "execution_count": 0,
      "outputs": []
    },
    {
      "cell_type": "code",
      "metadata": {
        "id": "mDRY5YNeKZG7",
        "colab_type": "code",
        "outputId": "f27e5e85-ab77-4130-fc2f-3fb4c48c5551",
        "colab": {
          "base_uri": "https://localhost:8080/",
          "height": 53
        }
      },
      "source": [
        "decode(x_train[0])"
      ],
      "execution_count": 7,
      "outputs": [
        {
          "output_type": "execute_result",
          "data": {
            "text/plain": [
              "\"the as you with out themselves powerful lets loves their becomes reaching had journalist of lot from anyone to have after out atmosphere never more room and it so heart shows to years of every never going and help moments or of every chest visual movie except her was several of enough more with is now current film as you of mine potentially unfortunately of you than him that with out themselves her get for was camp of you movie sometimes movie that with scary but and to story wonderful that in seeing in character to of 70s musicians with heart had shadows they of here that with her serious to have does when from why what have critics they is you that isn't one will very to as itself with other and in of seen over landed for anyone of and br show's to whether from than out themselves history he name half some br of and odd was two most of mean for 1 any an boat she he should is thought frog but of script you not while history he heart to real at barrel but when from one bit then have two of script their with her nobody most that with wasn't to with armed acting watch an for with heartfelt film want an \""
            ]
          },
          "metadata": {
            "tags": []
          },
          "execution_count": 7
        }
      ]
    },
    {
      "cell_type": "code",
      "metadata": {
        "id": "DQbmJrR5KyL_",
        "colab_type": "code",
        "outputId": "19d2f77c-fcbb-4dc0-d2c7-a500922446bf",
        "colab": {
          "base_uri": "https://localhost:8080/",
          "height": 82
        }
      },
      "source": [
        "def show_len():\n",
        "  print('Len of 1st training example: ', len(x_train[0]))\n",
        "  print('Len of 2nd training example: ', len(x_train[1]))\n",
        "  print('Len of 1st test example: ', len(x_test[0]))\n",
        "  print('Len of 2nd test example: ', len(x_test[1]))\n",
        "\n",
        "show_len()"
      ],
      "execution_count": 8,
      "outputs": [
        {
          "output_type": "stream",
          "text": [
            "Len of 1st training example:  218\n",
            "Len of 2nd training example:  189\n",
            "Len of 1st test example:  68\n",
            "Len of 2nd test example:  260\n"
          ],
          "name": "stdout"
        }
      ]
    },
    {
      "cell_type": "code",
      "metadata": {
        "id": "JorHRyYRLl1l",
        "colab_type": "code",
        "colab": {}
      },
      "source": [
        "#Padding the examples,padesquence function is the function inside keras\n",
        "from tensorflow.python.keras.preprocessing.sequence import pad_sequences\n",
        "x_train =pad_sequences(x_train,value=word_index['the'],padding='post',maxlen=256)\n",
        "x_test =pad_sequences(x_test,value=word_index['the'],padding='post',maxlen=256)\n",
        "\n"
      ],
      "execution_count": 0,
      "outputs": []
    },
    {
      "cell_type": "code",
      "metadata": {
        "id": "7QBxWrpmNdlT",
        "colab_type": "code",
        "outputId": "e494c62f-c8fa-415e-eadb-cf9d8e435973",
        "colab": {
          "base_uri": "https://localhost:8080/",
          "height": 82
        }
      },
      "source": [
        "show_len()"
      ],
      "execution_count": 10,
      "outputs": [
        {
          "output_type": "stream",
          "text": [
            "Len of 1st training example:  256\n",
            "Len of 2nd training example:  256\n",
            "Len of 1st test example:  256\n",
            "Len of 2nd test example:  256\n"
          ],
          "name": "stdout"
        }
      ]
    },
    {
      "cell_type": "code",
      "metadata": {
        "id": "tNy-z6OpN00b",
        "colab_type": "code",
        "outputId": "e89386f2-cef9-44a6-a8f6-1254acf941d3",
        "colab": {
          "base_uri": "https://localhost:8080/",
          "height": 53
        }
      },
      "source": [
        "#after the padding\n",
        "decode(x_train[0])"
      ],
      "execution_count": 11,
      "outputs": [
        {
          "output_type": "execute_result",
          "data": {
            "text/plain": [
              "\"the as you with out themselves powerful lets loves their becomes reaching had journalist of lot from anyone to have after out atmosphere never more room and it so heart shows to years of every never going and help moments or of every chest visual movie except her was several of enough more with is now current film as you of mine potentially unfortunately of you than him that with out themselves her get for was camp of you movie sometimes movie that with scary but and to story wonderful that in seeing in character to of 70s musicians with heart had shadows they of here that with her serious to have does when from why what have critics they is you that isn't one will very to as itself with other and in of seen over landed for anyone of and br show's to whether from than out themselves history he name half some br of and odd was two most of mean for 1 any an boat she he should is thought frog but of script you not while history he heart to real at barrel but when from one bit then have two of script their with her nobody most that with wasn't to with armed acting watch an for with heartfelt film want an the the the the the the the the the the the the the the the the the the the the the the the the the the the the the the the the the the the the the the \""
            ]
          },
          "metadata": {
            "tags": []
          },
          "execution_count": 11
        }
      ]
    },
    {
      "cell_type": "code",
      "metadata": {
        "id": "rJE6VEy6OoFu",
        "colab_type": "code",
        "outputId": "3cb1339d-135b-44ce-aa26-4dd2534cb05f",
        "colab": {
          "base_uri": "https://localhost:8080/",
          "height": 277
        }
      },
      "source": [
        "#one hot encoding doesnt give the answers on previous bases but word embeddings give that,16 shows the featuress vector \n",
        "#creating the training model like embedding output goes to global-1d where as created 1d 16  dimesnion vector and than this is densely connected to the next batch\n",
        "#sigmoid activation function gives us the binary classification output for the two classes that we have\n",
        "from tensorflow.python.keras.models import Sequential\n",
        "from tensorflow.python.keras.layers import Dense,Embedding,GlobalAveragePooling1D\n",
        "model= Sequential([\n",
        "                   Embedding(10000,16),\n",
        "                   GlobalAveragePooling1D(),\n",
        "                   Dense(16,activation = 'relu'),\n",
        "                   Dense(1,activation = 'sigmoid')\n",
        "\n",
        "])\n",
        "\n",
        "model.compile(\n",
        "    loss='binary_crossentropy',\n",
        "    optimizer='adam',\n",
        "    metrics= ['accuracy']\n",
        "\n",
        "\n",
        ")\n",
        "\n",
        "model.summary()\n",
        "\n"
      ],
      "execution_count": 20,
      "outputs": [
        {
          "output_type": "stream",
          "text": [
            "Model: \"sequential_1\"\n",
            "_________________________________________________________________\n",
            "Layer (type)                 Output Shape              Param #   \n",
            "=================================================================\n",
            "embedding_3 (Embedding)      (None, None, 16)          160000    \n",
            "_________________________________________________________________\n",
            "global_average_pooling1d_3 ( (None, 16)                0         \n",
            "_________________________________________________________________\n",
            "dense_6 (Dense)              (None, 16)                272       \n",
            "_________________________________________________________________\n",
            "dense_7 (Dense)              (None, 1)                 17        \n",
            "=================================================================\n",
            "Total params: 160,289\n",
            "Trainable params: 160,289\n",
            "Non-trainable params: 0\n",
            "_________________________________________________________________\n"
          ],
          "name": "stdout"
        }
      ]
    },
    {
      "cell_type": "code",
      "metadata": {
        "id": "0hs9Joav7H-Q",
        "colab_type": "code",
        "colab": {
          "base_uri": "https://localhost:8080/",
          "height": 33
        },
        "outputId": "8b8f71d7-c9d2-4806-e203-c3b8c4b98408"
      },
      "source": [
        "from tensorflow.python.keras.callbacks import LambdaCallback\n",
        "simple_log = LambdaCallback(on_epoch_end = lambda e, l: print(e, end='.'))\n",
        "\n",
        "E =20\n",
        "h= model.fit(\n",
        "    x_train,y_train,\n",
        "    validation_split=0.2,\n",
        "    epochs = E,\n",
        "    callbacks=[simple_log],\n",
        "    verbose=False\n",
        "\n",
        ")"
      ],
      "execution_count": 22,
      "outputs": [
        {
          "output_type": "stream",
          "text": [
            "0.1.2.3.4.5.6.7.8.9.10.11.12.13.14.15.16.17.18.19."
          ],
          "name": "stdout"
        }
      ]
    },
    {
      "cell_type": "code",
      "metadata": {
        "id": "qAA_rw_oALRP",
        "colab_type": "code",
        "colab": {
          "base_uri": "https://localhost:8080/",
          "height": 265
        },
        "outputId": "5c8c98c3-e9b1-41ed-a69f-595b0ba8c9a7"
      },
      "source": [
        "#Predictions and evaluation\n",
        "import matplotlib.pyplot as plt\n",
        "%matplotlib inline\n",
        "plt.plot(range(E),h.history['accuracy'],label='Training')\n",
        "plt.plot(range(E),h.history['val_accuracy'],label='Validation')\n",
        "plt.legend()\n",
        "plt.show()"
      ],
      "execution_count": 24,
      "outputs": [
        {
          "output_type": "display_data",
          "data": {
            "image/png": "[encoded data removed]",
            "text/plain": [
              "<Figure size 432x288 with 1 Axes>"
            ]
          },
          "metadata": {
            "tags": [],
            "needs_background": "light"
          }
        }
      ]
    },
    {
      "cell_type": "code",
      "metadata": {
        "id": "xCyHZV-MCIPr",
        "colab_type": "code",
        "colab": {
          "base_uri": "https://localhost:8080/",
          "height": 50
        },
        "outputId": "1ace3256-4587-41ab-ff6c-ddeb444162f9"
      },
      "source": [
        "loss, acc = model.evaluate(x_test,y_test)\n",
        "print(\"test set accuracy:\", acc*100)"
      ],
      "execution_count": 26,
      "outputs": [
        {
          "output_type": "stream",
          "text": [
            "782/782 [==============================] - 1s 2ms/step - loss: 0.9849 - accuracy: 0.8408\n",
            "test set accuracy: 84.08399820327759\n"
          ],
          "name": "stdout"
        }
      ]
    },
    {
      "cell_type": "code",
      "metadata": {
        "id": "CkUvGcEFDON1",
        "colab_type": "code",
        "colab": {
          "base_uri": "https://localhost:8080/",
          "height": 50
        },
        "outputId": "143950ef-03bd-4141-c06d-eb9a4fbde592"
      },
      "source": [
        "import numpy as np\n",
        "p = model.predict(np.expand_dims(x_test[0], axis=0))\n",
        "print(class_names[np.argmax(p[0])])\n",
        "#Essentially,you can just check if value of predictions p is greater than 0.5 or less than 0.5\n",
        "print(class_names[int(p[0]>0.5)])"
      ],
      "execution_count": 28,
      "outputs": [
        {
          "output_type": "stream",
          "text": [
            "Negative\n",
            "Positive\n"
          ],
          "name": "stdout"
        }
      ]
    },
    {
      "cell_type": "code",
      "metadata": {
        "id": "7mR6ZSQ4E_4A",
        "colab_type": "code",
        "colab": {
          "base_uri": "https://localhost:8080/",
          "height": 53
        },
        "outputId": "a06c0638-b74f-4e13-cac3-b6314d416f7a"
      },
      "source": [
        "decode(x_test[0])"
      ],
      "execution_count": 29,
      "outputs": [
        {
          "output_type": "execute_result",
          "data": {
            "text/plain": [
              "\"the wonder own as by is sequence i i and and to of hollywood br of down shouting getting boring of ever it sadly sadly sadly i i was then does don't close faint after one carry as by are be favourites all family turn in does as three part in another some to be probably with world and her an have faint beginning own as is sequence the the the the the the the the the the the the the the the the the the the the the the the the the the the the the the the the the the the the the the the the the the the the the the the the the the the the the the the the the the the the the the the the the the the the the the the the the the the the the the the the the the the the the the the the the the the the the the the the the the the the the the the the the the the the the the the the the the the the the the the the the the the the the the the the the the the the the the the the the the the the the the the the the the the the the the the the the the the the the the the the the the the the the the the the the the the the the the the the the the the the the the the the the the the the \""
            ]
          },
          "metadata": {
            "tags": []
          },
          "execution_count": 29
        }
      ]
    }
  ]
}